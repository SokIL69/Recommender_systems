{
 "cells": [
  {
   "cell_type": "markdown",
   "metadata": {},
   "source": [
    "# Рекомендательные системы"
   ]
  },
  {
   "cell_type": "markdown",
   "metadata": {},
   "source": [
    "### Урок 1. Введение, примеры задач, бизнес- и ML-метрики"
   ]
  },
  {
   "cell_type": "markdown",
   "metadata": {},
   "source": [
    "### Домашнее задание"
   ]
  },
  {
   "cell_type": "markdown",
   "metadata": {},
   "source": [
    "1. Приведите еще примеры метрик для оценки рекомендаций/ранжирования (можно взять из интернета, или ваши знания)\n",
    "2. Доделать все функции, где стоит комментарий \"сделать дома\""
   ]
  },
  {
   "cell_type": "markdown",
   "metadata": {},
   "source": [
    "Выполнил Соковнин ИЛ"
   ]
  },
  {
   "cell_type": "markdown",
   "metadata": {},
   "source": [
    "# \n",
    "# 1. Задание"
   ]
  },
  {
   "cell_type": "markdown",
   "metadata": {},
   "source": [
    "Приведите еще примеры метрик для оценки рекомендаций/ранжирования (можно взять из интернета, или ваши знания)"
   ]
  },
  {
   "cell_type": "markdown",
   "metadata": {},
   "source": [
    "## 2. ML-mетрики качества"
   ]
  },
  {
   "cell_type": "markdown",
   "metadata": {},
   "source": [
    "### 1. Hit rate\n",
    "\n",
    "----\n",
    "\n",
    "__Hit rate__ = (был ли хотя бы 1 релевантный товар среди рекомендованных)   \n",
    "\n",
    "__Hit rate@k__ = (был ли хотя бы 1 релевантный товар среди топ-k рекомендованных)"
   ]
  },
  {
   "cell_type": "markdown",
   "metadata": {},
   "source": [
    "### 2. Precision\n",
    "\n",
    "----\n",
    "\n",
    "__Precision__ $\\equiv P@k$ = (# of recommended items that are relevant) / (# of recommended items)  \n",
    "$$Precision=\\frac{TP}{TP+FP}$$\n",
    "$$Precision=\\frac{|hit set|}{N}$$\n",
    "where\n",
    "$$|hit set|=|test \\cap topN|$$\n",
    "\n",
    "__Precision@k__ $\\equiv P@k$ = (# of recommended items @k that are relevant) / (# of recommended items @k)\n",
    "\n",
    "__Money Precision@k__ = (revenue of recommended items @k that are relevant) / (revenue of recommended items @k)  \n",
    "<!-- \n",
    "__<span style='color:red'>Avarage Precision@k</span>__:\n",
    "$$AP@k = \\frac{1}{K}\\Sigma_{i=1}^{K}relevent P@k$$\n",
    "\n",
    "__<span style='color:red'>Mean Avarage Precision@k</span>__:\n",
    "$$MAP@k = \\frac{1}{N}\\Sigma_{i=1}^{N} AP@k$$ -->"
   ]
  },
  {
   "cell_type": "markdown",
   "metadata": {},
   "source": [
    "\n",
    "### 3. Recall\n",
    "\n",
    "*Recall* - доля рекомендованных товаров среди релевантных = Какой % купленных товаров был среди рекомендованных\n",
    "\n",
    "- Обычно используется для моделей пре-фильтрации товаров (убрать те товары, которые точно не будем рекомендовать)\n",
    "\n",
    "---\n",
    "\n",
    "Recall $\\equiv R$ = (# of recommended items that are relevant) / (# of relevant items)  \n",
    "\n",
    "Recall@k $\\equiv R@k$ = (# of recommended items @k that are relevant) / (# of relevant items)\n",
    "\n",
    "Money Recall@k = (revenue of recommended items @k that are relevant) / (revenue of relevant items)  \n",
    "\n",
    "<!-- __<span style='color:red'>Avarage Recall@k</span>__:\n",
    "$$AR@k = \\frac{1}{K}\\Sigma_{i=1}^{K}relevent R@k$$\n",
    "\n",
    "__<span style='color:red'>Mean Avarage Recall@k</span>__:\n",
    "$$MAR@k = \\frac{1}{N}\\Sigma_{i=1}^{N} AR@k$$ -->"
   ]
  },
  {
   "cell_type": "markdown",
   "metadata": {},
   "source": [
    "## Метрики ранжирования"
   ]
  },
  {
   "cell_type": "markdown",
   "metadata": {},
   "source": [
    "### AP@k\n",
    "AP@k - average precision at k\n",
    "\n",
    "$$AP@k = \\frac{1}{r} \\sum{[recommended_{relevant_i}] * precision@k}$$\n",
    "\n",
    "- r - кол-во релевантных среди рекомендованных\n",
    "- Суммируем по всем релевантным товарам\n",
    "- Зависит от порядка рекомендаций"
   ]
  },
  {
   "cell_type": "markdown",
   "metadata": {},
   "source": [
    "### MAP@k\n",
    "\n",
    "MAP@k (Mean Average Precision@k)  \n",
    "Среднее AP@k по всем юзерам\n",
    "- Показывает средневзвешенную точность рекомендаций\n",
    "\n",
    "$$MAP@k = \\frac{1}{|U|} \\sum_u{AP_k}$$\n",
    "  \n",
    "|U| - кол-во юзеров"
   ]
  },
  {
   "cell_type": "markdown",
   "metadata": {},
   "source": [
    "### AUC@k"
   ]
  },
  {
   "cell_type": "markdown",
   "metadata": {},
   "source": [
    "### Normalized discounted cumulative gain ( NDCG@k)\n",
    "\n",
    "\n",
    "$$DCG = \\frac{1}{|r|} \\sum_u{\\frac{[bought fact]}{discount(i)}}$$  \n",
    "\n",
    "$discount(i) = i$ if $i <= 2$,   \n",
    "$discount(i) = log_2(i+1)$ if $i > 2$\n",
    "\n",
    "DCG - дисконтированный накопленный прирост\n",
    "\n",
    "(!) Считаем для первых k рекоммендаций   \n",
    "(!) - существуют вариации с другими $discount(i)$  \n",
    "i - ранк рекомендованного товара  \n",
    "|r| - кол-во рекомендованных товаров \n",
    "\n",
    "$$NDCG = \\frac{DCG}{ideal DCG}$$\n",
    "$$idial DCG@k = \\sum_{k=1}^K\\frac{1}{log_2(k+1)}$$\n"
   ]
  },
  {
   "cell_type": "markdown",
   "metadata": {},
   "source": [
    "### Mean Reciprocal Rank ( MRR@k ) - \n",
    "Средний взаимный ранг\n",
    "\n",
    "\n",
    "- Считаем для первых k рекоммендаций\n",
    "- Найти ранк первого релевантного предсказания $k_u$\n",
    "- Посчитать reciprocal rank = $\\frac{1}{k_u}$\n",
    "\n",
    "$$MRR = mean(\\frac{1}{k_u})$$"
   ]
  },
  {
   "cell_type": "markdown",
   "metadata": {},
   "source": [
    "## __<span style='color:red'>Метрики на основе ранговой корреляции</span>__"
   ]
  },
  {
   "cell_type": "markdown",
   "metadata": {},
   "source": [
    "Отдельно стоит выделить метрики качества ранжирования, основанные на одном из коэффициентов __ранговой корреляции__. В статистике, ранговый коэффициент корреляции — это коэффициент корреляции, который учитывает не сами значения, а лишь их ранг (порядок). Рассмотрим два наиболее распространенных ранговых коэффициента корреляции: коэффициенты Спирмена и Кендэлла."
   ]
  },
  {
   "cell_type": "markdown",
   "metadata": {},
   "source": [
    "###  __<span style='color:blue'>Ранговый коэффициент корреляции Кендэлла (Kendall-$\\tau$)</span>__\n",
    "\n",
    "[http://en.wikipedia.org/wiki/Kendall_tau_rank_correlation_coefficient]"
   ]
  },
  {
   "cell_type": "markdown",
   "metadata": {},
   "source": [
    "$$\\tau = \\frac{C^+ - C^-}{\\frac{1}{2}{N(N-1)}}$$\n",
    "\n",
    "where $C^+$ is the number of concordant pairs (согласованных пар), and $C^-$ is the number of discordant pairs (не согласованных пар) in the data set.<br>\n",
    "где $C^+$ — число совпадений, $C^-$ — число инверсий, N — объем выборки"
   ]
  },
  {
   "cell_type": "markdown",
   "metadata": {},
   "source": [
    "###  __<span style='color:blue'>Ранговый коэффициент корреляции Спирмена (Spearman's-$\\rho$)</span>__\n",
    "\n",
    "[http://en.wikipedia.org/wiki/Spearman's_rank_correlation_coefficient]"
   ]
  },
  {
   "cell_type": "markdown",
   "metadata": {},
   "source": [
    "Второй — ранговый коэффициент корреляции Спирмена — по сути является ни чем иным как корреляции Пирсона, посчитанной на значениях рангов."
   ]
  },
  {
   "cell_type": "markdown",
   "metadata": {},
   "source": [
    "$$\\rho = \\frac{1}{n_u} \\frac{\\sum_i( r_{ui} - \\bar{r}) ( \\hat{r}_{ui} - \\hat{\\bar{r}} ) }{\\sigma(r) \\sigma(\\hat{r})}$$"
   ]
  },
  {
   "cell_type": "markdown",
   "metadata": {},
   "source": [
    "## __<span style='color:red'>Метрики на основе каскадной модели поведения</span>__"
   ]
  },
  {
   "cell_type": "markdown",
   "metadata": {},
   "source": [
    "До этого момента мы не углублялись в то, как пользователь (далее мы рассмотрим частный случай объекта — пользователь) изучает предложенные ему элементы. На самом деле, неявно нами было сделано предположение, что просмотр каждого элемента __независим__ от просмотров других элементов — своего рода «наивность». На практике же, элементы зачастую просматриваются пользователем поочередно, и то, просмотрит ли пользователь следующий элемент, зависит от его удовлетворенности предыдущими. Рассмотрим пример: в ответ на поисковый запрос алгоритм ранжирования предложил пользователю несколько документов. Если документы на позиции 1 и 2 оказались крайне релевантны, то вероятность того, что пользователь просмотрит документ на позиции 3 мала, т.к. он будет вполне удовлетворен первыми двумя.\n",
    "\n",
    "Подобные модели поведения пользователя, где изучение предложенных ему элементов происходит последовательно и вероятность просмотра элемента зависит от релевантности предыдущих называются каскадными."
   ]
  },
  {
   "cell_type": "markdown",
   "metadata": {},
   "source": [
    "###  __<span style='color:blue'>Expected reciprocal rank</span>__"
   ]
  },
  {
   "cell_type": "markdown",
   "metadata": {},
   "source": [
    "__Expected reciprocal rank (ERR)__ — пример метрики качества ранжирования, основанной на каскадной модели. Задается она следующей формулой:"
   ]
  },
  {
   "cell_type": "markdown",
   "metadata": {},
   "source": [
    "$$ ERR@k = \\sum_{k=1}{K}\\frac{1}{|k|}P(\\textrm{объект остановится на элементе с рангом $k$}) $$\n",
    "\n",
    "\n",
    "где ранг понимается по порядку убывания веса ранжированных элементов $r(e)$. Самое интересное в этой метрике — вероятности. При их расчете используются предположения каскадной модели:\n",
    "\n",
    "$$P(\\textrm{объект остановится на элементе с рангом $k$}) = p_k \\prod\\limits_{i=1}^{k-1}(1-p_i),$$\n",
    "\n",
    "\n",
    "где $p_k$ — вероятность того, что пользователь будет удовлетворен объектом с рангом $k$. "
   ]
  },
  {
   "cell_type": "markdown",
   "metadata": {},
   "source": [
    "###  __<span style='color:blue'>PFoundk</span>__"
   ]
  },
  {
   "cell_type": "markdown",
   "metadata": {},
   "source": [
    "PFound — метрика качества ранжирования, предложенная нашими соотечественниками [http://romip.ru/romip2009/15_yandex.pdf] и использующая похожую на каскадную модель:"
   ]
  },
  {
   "cell_type": "markdown",
   "metadata": {},
   "source": [
    "# 2. Задание"
   ]
  },
  {
   "cell_type": "markdown",
   "metadata": {},
   "source": [
    "2. Доделать все функции, где стоит комментарий \"сделать дома\""
   ]
  },
  {
   "cell_type": "code",
   "execution_count": 1,
   "metadata": {},
   "outputs": [],
   "source": [
    "import pandas as pd\n",
    "import numpy as np"
   ]
  },
  {
   "cell_type": "code",
   "execution_count": 2,
   "metadata": {},
   "outputs": [],
   "source": [
    "recommended_list = [143, 156, 1134, 991, 27, 1543, 3345, 533, 11, 43] #id товаров\n",
    "\n",
    "# user1\n",
    "bought_list = [521, 32, 143, 991]"
   ]
  },
  {
   "cell_type": "markdown",
   "metadata": {},
   "source": [
    "### 1. Hit rate"
   ]
  },
  {
   "cell_type": "code",
   "execution_count": 3,
   "metadata": {},
   "outputs": [],
   "source": [
    "def hit_rate(recommended_list, bought_list):\n",
    "    bought_list = np.array(bought_list)\n",
    "    recommended_list = np.array(recommended_list)\n",
    "    \n",
    "    flags = np.isin(bought_list, recommended_list)\n",
    "    print(flags)\n",
    "    return (flags.sum() > 0) * 1\n",
    "\n",
    "\n",
    "def hit_rate_at_k(recommended_list, bought_list, k=5):\n",
    "    # сделать в домашней работе\n",
    "    # pass\n",
    "    return hit_rate(recommended_list[:k], bought_list)"
   ]
  },
  {
   "cell_type": "code",
   "execution_count": 4,
   "metadata": {},
   "outputs": [
    {
     "name": "stdout",
     "output_type": "stream",
     "text": [
      "[False False  True  True]\n"
     ]
    },
    {
     "data": {
      "text/plain": [
       "1"
      ]
     },
     "execution_count": 4,
     "metadata": {},
     "output_type": "execute_result"
    }
   ],
   "source": [
    "hit_rate(recommended_list, bought_list)"
   ]
  },
  {
   "cell_type": "markdown",
   "metadata": {},
   "source": [
    "### 2. Precision"
   ]
  },
  {
   "cell_type": "code",
   "execution_count": 5,
   "metadata": {},
   "outputs": [],
   "source": [
    "recommended_list = [143,156, 1134, 991, 27, 1543, 3345, 533, 11, 43] #id товаров\n",
    "bought_list = [521, 32, 143, 991]\n",
    "prices_resommended = [400, 60, 40, 40 , 90, 200, 50, 100, 40, 15]"
   ]
  },
  {
   "cell_type": "code",
   "execution_count": 6,
   "metadata": {},
   "outputs": [],
   "source": [
    "def precision(recommended_list, bought_list):\n",
    "    \n",
    "    bought_list = np.array(bought_list)\n",
    "    recommended_list = np.array(recommended_list)\n",
    "    \n",
    "    flags = np.isin(bought_list, recommended_list)\n",
    "    return flags.sum() / len(recommended_list)\n",
    "\n",
    "\n",
    "def precision_at_k(recommended_list, bought_list, k=5):\n",
    "    # сделать в домашней работе\n",
    "    return precision(recommended_list[:k], bought_list)\n",
    "\n",
    "def money_precision_at_k_(recommended_list, bought_list, prices_recommended, k=5):\n",
    "    \n",
    "    recommend_list = np.array(recommended_list[:k])\n",
    "    prices_recommend = np.array(prices_recommended[:k])\n",
    "    \n",
    "    flags = np.isin(recommend_list, bought_list)\n",
    "    \n",
    "    precision = np.dot(flags, prices_recommend).sum() / prices_recommend.sum()\n",
    "    \n",
    "    return precision"
   ]
  },
  {
   "cell_type": "code",
   "execution_count": 7,
   "metadata": {},
   "outputs": [
    {
     "data": {
      "text/plain": [
       "0.2"
      ]
     },
     "execution_count": 7,
     "metadata": {},
     "output_type": "execute_result"
    }
   ],
   "source": [
    "precision(recommended_list, bought_list)"
   ]
  },
  {
   "cell_type": "code",
   "execution_count": 8,
   "metadata": {},
   "outputs": [
    {
     "data": {
      "text/plain": [
       "0.4"
      ]
     },
     "execution_count": 8,
     "metadata": {},
     "output_type": "execute_result"
    }
   ],
   "source": [
    "precision_at_k(recommended_list, bought_list, 5)"
   ]
  },
  {
   "cell_type": "code",
   "execution_count": 9,
   "metadata": {},
   "outputs": [
    {
     "data": {
      "text/plain": [
       "0.6984126984126984"
      ]
     },
     "execution_count": 9,
     "metadata": {},
     "output_type": "execute_result"
    }
   ],
   "source": [
    "k=5\n",
    "money_precision_at_k_(recommended_list, bought_list, prices_resommended, k)"
   ]
  },
  {
   "cell_type": "markdown",
   "metadata": {},
   "source": [
    "### 3. Recall"
   ]
  },
  {
   "cell_type": "code",
   "execution_count": 10,
   "metadata": {},
   "outputs": [],
   "source": [
    "recommended_list = [143, 156, 1134, 991, 27, 1543, 3345, 533, 11, 43] #id товаров\n",
    "bought_list = [521, 32, 143, 991]\n",
    "prices_resommended = [400, 60, 40, 40 , 90, 200, 50, 100, 40, 15]"
   ]
  },
  {
   "cell_type": "code",
   "execution_count": 11,
   "metadata": {},
   "outputs": [],
   "source": [
    "def recall(recommended_list, bought_list):\n",
    "    \n",
    "    bought_list = np.array(bought_list)\n",
    "    recommended_list = np.array(recommended_list)\n",
    "    \n",
    "    flags = np.isin(bought_list, recommended_list)\n",
    "    \n",
    "    return flags.sum() / len(bought_list)\n",
    "    \n",
    "\n",
    "def recall_at_k(recommended_list, bought_list, k=5):\n",
    "    # pass\n",
    "    #    сделать дома\n",
    "    return recall(recommended_list[:k], bought_list)\n",
    "\n",
    "#def money_recall_at_k(recommended_list, bought_list, prices_recommended, prices_bought, k=5):\n",
    "def money_recall_at_k(recommended_list, bought_list, prices_recommended, k=5):\n",
    "    # pass\n",
    "    # сделать дома\n",
    "    \n",
    "    if k >= len(recommended_list):\n",
    "        k = len(recommended_list)-1\n",
    "        \n",
    "    # bought_list = np.array(bought_list)\n",
    "    recommend_list = np.array(recommended_list[:k])\n",
    "    prices_recommend = np.array(prices_recommended[:k])\n",
    "    \n",
    "    flags = np.isin(bought_list, recommend_list)\n",
    "   \n",
    "    recall = np.dot(flags, prices_recommend).sum() / prices_recommend.sum()\n",
    "    \n",
    "    return recall"
   ]
  },
  {
   "cell_type": "code",
   "execution_count": 12,
   "metadata": {},
   "outputs": [
    {
     "data": {
      "text/plain": [
       "0.5"
      ]
     },
     "execution_count": 12,
     "metadata": {},
     "output_type": "execute_result"
    }
   ],
   "source": [
    "recall(recommended_list, bought_list)"
   ]
  },
  {
   "cell_type": "code",
   "execution_count": 13,
   "metadata": {},
   "outputs": [
    {
     "data": {
      "text/plain": [
       "0.5"
      ]
     },
     "execution_count": 13,
     "metadata": {},
     "output_type": "execute_result"
    }
   ],
   "source": [
    "recall_at_k(recommended_list,bought_list, 10)"
   ]
  },
  {
   "cell_type": "code",
   "execution_count": 14,
   "metadata": {},
   "outputs": [
    {
     "data": {
      "text/plain": [
       "0.4251207729468599"
      ]
     },
     "execution_count": 14,
     "metadata": {},
     "output_type": "execute_result"
    }
   ],
   "source": [
    "money_precision_at_k_(recommended_list, bought_list, prices_resommended, 10)"
   ]
  },
  {
   "cell_type": "markdown",
   "metadata": {},
   "source": [
    "# Метрики ранжирования"
   ]
  },
  {
   "cell_type": "markdown",
   "metadata": {},
   "source": [
    "## AP@k"
   ]
  },
  {
   "cell_type": "code",
   "execution_count": 15,
   "metadata": {},
   "outputs": [],
   "source": [
    "recommended_list = [143, 156, 1134, 991, 27, 1543, 3345, 533, 11, 43] #id товаров\n",
    "bought_list = [521, 32, 143, 991]"
   ]
  },
  {
   "cell_type": "code",
   "execution_count": 16,
   "metadata": {},
   "outputs": [],
   "source": [
    "def ap_k(recommended_list, bought_list, k=5):\n",
    "    \n",
    "    bought_list = np.array(bought_list)\n",
    "    recommended_list = np.array(recommended_list)[:k]\n",
    "    \n",
    "    relevant_indexes = np.nonzero(np.isin(recommended_list, bought_list))[0]\n",
    "    if len(relevant_indexes) == 0:\n",
    "        return 0\n",
    "    \n",
    "    amount_relevant = len(relevant_indexes)\n",
    "    \n",
    "    for index_relevant in relevant_indexes:\n",
    "        print(precision_at_k(recommended_list, bought_list, k=index_relevant + 1) )\n",
    "    sum_ = sum([precision_at_k(recommended_list, bought_list, k=index_relevant + 1) for index_relevant in relevant_indexes])\n",
    "    \n",
    "    return sum_/amount_relevant"
   ]
  },
  {
   "cell_type": "code",
   "execution_count": 17,
   "metadata": {},
   "outputs": [
    {
     "name": "stdout",
     "output_type": "stream",
     "text": [
      "1.0\n",
      "0.5\n"
     ]
    },
    {
     "data": {
      "text/plain": [
       "0.75"
      ]
     },
     "execution_count": 17,
     "metadata": {},
     "output_type": "execute_result"
    }
   ],
   "source": [
    "ap_k(recommended_list, bought_list, k=5)"
   ]
  },
  {
   "cell_type": "markdown",
   "metadata": {},
   "source": [
    "### MAP@k"
   ]
  },
  {
   "cell_type": "code",
   "execution_count": 18,
   "metadata": {},
   "outputs": [],
   "source": [
    "# теперь список из 3 пользователей\n",
    "recommended_list_3_users = [[143, 156, 1134, 991, 27, 1543, 3345, 533, 11, 43], \n",
    "                            [1134, 533, 14, 4, 15, 1543, 1, 99, 27, 3345],\n",
    "                            [991, 3345, 27, 533, 43, 143, 1543, 156, 1134, 11]\n",
    "                    ]\n",
    "\n",
    "bought_list_3_users = [[521, 32, 143],  # юзер 1\n",
    "                       [143, 156, 991, 43, 11], # юзер 2\n",
    "                       [1,2] # юзер 3\n",
    "                      ] "
   ]
  },
  {
   "cell_type": "code",
   "execution_count": 19,
   "metadata": {},
   "outputs": [],
   "source": [
    "def map_k(recommended_list, bought_list, k=5):\n",
    "    \n",
    "    # сделать дома\n",
    "    \n",
    "    result = 0\n",
    "    N = len(bought_list_3_users)\n",
    "    for i in range(N):\n",
    "        print(f\"ap@k({i})={ap_k(recommended_list[i], bought_list[i], k=5)}\")\n",
    "        result += ap_k(recommended_list[i], bought_list[i], k=5)\n",
    "        \n",
    "    return result/N"
   ]
  },
  {
   "cell_type": "code",
   "execution_count": 20,
   "metadata": {},
   "outputs": [
    {
     "name": "stdout",
     "output_type": "stream",
     "text": [
      "1.0\n",
      "ap@k(0)=1.0\n",
      "1.0\n",
      "ap@k(1)=0\n",
      "ap@k(2)=0\n"
     ]
    },
    {
     "data": {
      "text/plain": [
       "0.3333333333333333"
      ]
     },
     "execution_count": 20,
     "metadata": {},
     "output_type": "execute_result"
    }
   ],
   "source": [
    "map_k(recommended_list_3_users, bought_list_3_users, k=5)"
   ]
  },
  {
   "cell_type": "markdown",
   "metadata": {},
   "source": [
    "### Normalized discounted cumulative gain ( NDCG@k)"
   ]
  },
  {
   "cell_type": "code",
   "execution_count": 21,
   "metadata": {},
   "outputs": [],
   "source": [
    "import math "
   ]
  },
  {
   "cell_type": "code",
   "execution_count": 22,
   "metadata": {},
   "outputs": [],
   "source": [
    "# по желанию\n",
    "\n",
    "# def ndcg_at_k():\n",
    "#     pass"
   ]
  },
  {
   "cell_type": "code",
   "execution_count": 23,
   "metadata": {},
   "outputs": [],
   "source": [
    "# по желанию\n",
    "\n",
    "def idial_dcg_at_k(recommended_list, bought_list, k):\n",
    "    bought = np.array(bought_list)\n",
    "    recommended = np.array(recommended_list[:k])\n",
    "    discount = []\n",
    "    \n",
    "    for i in range(k):\n",
    "        if i < 2:\n",
    "            discount.append( 1/(i+1) )\n",
    "        else:\n",
    "            discount.append( 1/math.log2(i+1))\n",
    "    \n",
    "    print(discount)\n",
    "    return  sum(discount)/k\n",
    "\n",
    "\n",
    "def dcg_at_k(recommended_list, bought_list, k):\n",
    "    bought = np.array(bought_list)\n",
    "    recommended = np.array(recommended_list[:k])\n",
    "    discount = []\n",
    "    \n",
    "    for i in range(k):\n",
    "        if recommended_list[i] in bought_list:\n",
    "            if i < 2:\n",
    "                discount.append( 1/(i+1) )\n",
    "            else:\n",
    "                discount.append( 1/math.log2(i+1) )\n",
    "        else:\n",
    "            discount.append(0)\n",
    "    \n",
    "    print(discount)\n",
    "    return  sum(discount)/k\n",
    "\n",
    "\n",
    "def ndcg_at_k(recommended_list, bought_list, k):\n",
    "    dcg_atk= dcg_at_k(recommended_list, bought_list, k)\n",
    "    idial_dcg_atk = idial_dcg_at_k(recommended_list, bought_list, k)\n",
    "    \n",
    "    return  dcg_atk/(k*idial_dcg_atk)"
   ]
  },
  {
   "cell_type": "code",
   "execution_count": 24,
   "metadata": {},
   "outputs": [],
   "source": [
    "recommended_list = [143, 156, 1134, 991, 27, 1543, 3345, 533, 11, 43] #id товаров\n",
    "bought_list = [521, 32, 143, 991]"
   ]
  },
  {
   "cell_type": "code",
   "execution_count": 25,
   "metadata": {},
   "outputs": [
    {
     "name": "stdout",
     "output_type": "stream",
     "text": [
      "[1.0, 0.5, 0.6309297535714575, 0.5, 0.43067655807339306]\n"
     ]
    },
    {
     "data": {
      "text/plain": [
       "0.6123212623289701"
      ]
     },
     "execution_count": 25,
     "metadata": {},
     "output_type": "execute_result"
    }
   ],
   "source": [
    "k=5\n",
    "# print(recommended_list, bought_list, k)\n",
    "# print(1/math.log2(3), 1/math.log2(4),1/math.log2(5))\n",
    "idial_dcg_at_k(recommended_list, bought_list, k)"
   ]
  },
  {
   "cell_type": "code",
   "execution_count": 26,
   "metadata": {},
   "outputs": [
    {
     "name": "stdout",
     "output_type": "stream",
     "text": [
      "[1.0, 0, 0, 0.5, 0]\n"
     ]
    },
    {
     "data": {
      "text/plain": [
       "0.3"
      ]
     },
     "execution_count": 26,
     "metadata": {},
     "output_type": "execute_result"
    }
   ],
   "source": [
    "dcg_at_k(recommended_list, bought_list, k=5)"
   ]
  },
  {
   "cell_type": "code",
   "execution_count": 27,
   "metadata": {},
   "outputs": [
    {
     "name": "stdout",
     "output_type": "stream",
     "text": [
      "[1.0, 0, 0, 0.5, 0]\n",
      "[1.0, 0.5, 0.6309297535714575, 0.5, 0.43067655807339306]\n"
     ]
    },
    {
     "data": {
      "text/plain": [
       "0.0979877781342908"
      ]
     },
     "execution_count": 27,
     "metadata": {},
     "output_type": "execute_result"
    }
   ],
   "source": [
    "ndcg_at_k(recommended_list, bought_list, k)"
   ]
  },
  {
   "cell_type": "markdown",
   "metadata": {},
   "source": [
    "### Mean Reciprocal Rank ( MRR@k )"
   ]
  },
  {
   "cell_type": "code",
   "execution_count": 28,
   "metadata": {},
   "outputs": [],
   "source": [
    "# теперь список из 3 пользователей\n",
    "recommended_list_3_users = [[143, 156, 1134, 991, 27, 1543, 3345, 533, 11, 43], \n",
    "                            [1134, 533, 14, 4, 15, 1543, 1, 99, 27, 3345],\n",
    "                            [991, 3345, 27, 533, 43, 143, 1543, 156, 1134, 11]\n",
    "                    ]\n",
    "\n",
    "bought_list_3_users = [[521, 32, 143],  # юзер 1\n",
    "                       [143, 156, 991, 43, 11], # юзер 2\n",
    "                       [1,2] # юзер 3\n",
    "                      ] "
   ]
  },
  {
   "cell_type": "code",
   "execution_count": 29,
   "metadata": {},
   "outputs": [],
   "source": [
    "def inverse_rank(recommended_list, bought_list, k=1):\n",
    "    # Находим 1/ранг первого релевантного предсказания для пользователя\n",
    "    rank=[( 1/(i+1) ) for i in range(len(recommended_list[:k])) for j in range(len(bought_list)) if recommended_list[i] == bought_list[j]]\n",
    "    \n",
    "    if len(rank) > 0:\n",
    "        return rank[0]\n",
    "    else:\n",
    "        return 0\n",
    "    \n",
    "\n",
    "def reciprocal_rank(recommended_list_users, bought_list_users, k=1):\n",
    "    # Находим список рангов\n",
    "    \n",
    "    rec_rank = []\n",
    "    for i in range(len(bought_list_users)):\n",
    "        rec_rank.append(inverse_rank(recommended_list_users[i], bought_list_users[i], k))\n",
    "    rec_rank\n",
    "    return rec_rank\n",
    "\n",
    "\n",
    "def mean_reciprocal_rank(recommended_list_users, bought_list_users, k=1):\n",
    "    \n",
    "    # сделать дома\n",
    "    \n",
    "    # Mean Reciprocal Rank\n",
    "    \n",
    "    rec_rank = reciprocal_rank(recommended_list_users, bought_list_users, k)\n",
    "\n",
    "    mrr_at_k = np.sum(rec_rank)/len(bought_list_users)\n",
    "    \n",
    "    return mrr_at_k"
   ]
  },
  {
   "cell_type": "code",
   "execution_count": 30,
   "metadata": {},
   "outputs": [
    {
     "data": {
      "text/plain": [
       "[1.0, 0, 0]"
      ]
     },
     "execution_count": 30,
     "metadata": {},
     "output_type": "execute_result"
    }
   ],
   "source": [
    "reciprocal_rank(recommended_list_3_users, bought_list_3_users, k=10)"
   ]
  },
  {
   "cell_type": "code",
   "execution_count": 31,
   "metadata": {},
   "outputs": [
    {
     "data": {
      "text/plain": [
       "0.3333333333333333"
      ]
     },
     "execution_count": 31,
     "metadata": {},
     "output_type": "execute_result"
    }
   ],
   "source": [
    "mean_reciprocal_rank(recommended_list_3_users, bought_list_3_users, k=10)"
   ]
  },
  {
   "cell_type": "markdown",
   "metadata": {},
   "source": [
    "\n",
    "https://habr.com/ru/company/econtenta/blog/303458/\n",
    "\n",
    "Evaluation https://github.com/ocelma/python-recsys/blob/master/doc/source/evaluation.rst"
   ]
  }
 ],
 "metadata": {
  "kernelspec": {
   "display_name": "Python 3.8 (causalml)",
   "language": "python",
   "name": "causalml-py38"
  },
  "language_info": {
   "codemirror_mode": {
    "name": "ipython",
    "version": 3
   },
   "file_extension": ".py",
   "mimetype": "text/x-python",
   "name": "python",
   "nbconvert_exporter": "python",
   "pygments_lexer": "ipython3",
   "version": "3.8.5"
  }
 },
 "nbformat": 4,
 "nbformat_minor": 4
}
